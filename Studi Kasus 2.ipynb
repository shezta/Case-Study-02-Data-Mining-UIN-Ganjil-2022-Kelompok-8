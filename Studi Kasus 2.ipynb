{
  "nbformat": 4,
  "nbformat_minor": 0,
  "metadata": {
    "colab": {
      "provenance": [],
      "include_colab_link": true
    },
    "kernelspec": {
      "name": "python3",
      "display_name": "Python 3"
    },
    "language_info": {
      "name": "python"
    }
  },
  "cells": [
    {
      "cell_type": "markdown",
      "metadata": {
        "id": "view-in-github",
        "colab_type": "text"
      },
      "source": [
        "<a href=\"https://colab.research.google.com/github/shezta/Case-Study-02-Data-Mining-UIN-Ganjil-2022-Kelompok-8/blob/main/Studi%20Kasus%202.ipynb\" target=\"_parent\"><img src=\"https://colab.research.google.com/assets/colab-badge.svg\" alt=\"Open In Colab\"/></a>"
      ]
    },
    {
      "cell_type": "code",
      "source": [
        "import warnings; warnings.simplefilter('ignore')\n",
        "import pandas as pd\n",
        "import numpy as np\n",
        "import matplotlib as mp\n",
        "import seaborn as sns\n",
        "import matplotlib.pyplot as plt\n",
        "import matplotlib.cm as cm"
      ],
      "metadata": {
        "id": "gLPhHVG3Wh4s"
      },
      "execution_count": 232,
      "outputs": []
    },
    {
      "cell_type": "code",
      "source": [
        "!wget P https://raw.githubusercontent.com/shezta/Case-Study-02-Data-Mining-UIN-Ganjil-2022-Kelompok-8/main/Case-Study-02-MixITup.csv"
      ],
      "metadata": {
        "colab": {
          "base_uri": "https://localhost:8080/"
        },
        "id": "F0NIJE7GWkr-",
        "outputId": "4245dcb8-003d-44a3-ff7d-9c846e8f5338"
      },
      "execution_count": 233,
      "outputs": [
        {
          "output_type": "stream",
          "name": "stdout",
          "text": [
            "--2022-10-12 02:02:59--  http://p/\n",
            "Resolving p (p)... failed: Name or service not known.\n",
            "wget: unable to resolve host address ‘p’\n",
            "--2022-10-12 02:02:59--  https://raw.githubusercontent.com/shezta/Case-Study-02-Data-Mining-UIN-Ganjil-2022-Kelompok-8/main/Case-Study-02-MixITup.csv\n",
            "Resolving raw.githubusercontent.com (raw.githubusercontent.com)... 185.199.110.133, 185.199.111.133, 185.199.108.133, ...\n",
            "Connecting to raw.githubusercontent.com (raw.githubusercontent.com)|185.199.110.133|:443... connected.\n",
            "HTTP request sent, awaiting response... 200 OK\n",
            "Length: 9248 (9.0K) [text/plain]\n",
            "Saving to: ‘Case-Study-02-MixITup.csv.16’\n",
            "\n",
            "Case-Study-02-MixIT 100%[===================>]   9.03K  --.-KB/s    in 0s      \n",
            "\n",
            "2022-10-12 02:03:00 (72.1 MB/s) - ‘Case-Study-02-MixITup.csv.16’ saved [9248/9248]\n",
            "\n",
            "FINISHED --2022-10-12 02:03:00--\n",
            "Total wall clock time: 0.5s\n",
            "Downloaded: 1 files, 9.0K in 0s (72.1 MB/s)\n"
          ]
        }
      ]
    },
    {
      "cell_type": "code",
      "source": [
        "data = pd.read_csv(\"Case-Study-02-MixITup.csv\", low_memory = False, encoding = \"utf8\")"
      ],
      "metadata": {
        "id": "gmr27_ekW7g9"
      },
      "execution_count": 234,
      "outputs": []
    },
    {
      "cell_type": "code",
      "source": [
        "data.head()"
      ],
      "metadata": {
        "colab": {
          "base_uri": "https://localhost:8080/",
          "height": 206
        },
        "id": "2xTzjF6ZYCgr",
        "outputId": "186c597c-0f84-4bd5-8f85-e93c3162589d"
      },
      "execution_count": 235,
      "outputs": [
        {
          "output_type": "execute_result",
          "data": {
            "text/plain": [
              "    ID Jenis Kelamin  Umur  Pendapatan-per-bulan  skor-pengeluaran Menikah  \\\n",
              "0  101        Wanita    49              13114754                52       1   \n",
              "1  102        Wanita    32              33606557                86       1   \n",
              "2  103          Pria    51              15983606                41       1   \n",
              "3  104          Pria    19              12704918                55       0   \n",
              "4  105        Wanita    38              20081967                42       1   \n",
              "\n",
              "      Kota  Promo HariFav  FavFlavor  \n",
              "0  Jakarta    1.0   Sabtu          2  \n",
              "1    Depok    1.0  Minggu          6  \n",
              "2  Jakarta    2.0  Minggu          3  \n",
              "3  Jakarta    1.0    Rabu          7  \n",
              "4  Jakarta    2.0   Senin          8  "
            ],
            "text/html": [
              "\n",
              "  <div id=\"df-33c6681e-b437-4bfd-956b-0fa3a71c271c\">\n",
              "    <div class=\"colab-df-container\">\n",
              "      <div>\n",
              "<style scoped>\n",
              "    .dataframe tbody tr th:only-of-type {\n",
              "        vertical-align: middle;\n",
              "    }\n",
              "\n",
              "    .dataframe tbody tr th {\n",
              "        vertical-align: top;\n",
              "    }\n",
              "\n",
              "    .dataframe thead th {\n",
              "        text-align: right;\n",
              "    }\n",
              "</style>\n",
              "<table border=\"1\" class=\"dataframe\">\n",
              "  <thead>\n",
              "    <tr style=\"text-align: right;\">\n",
              "      <th></th>\n",
              "      <th>ID</th>\n",
              "      <th>Jenis Kelamin</th>\n",
              "      <th>Umur</th>\n",
              "      <th>Pendapatan-per-bulan</th>\n",
              "      <th>skor-pengeluaran</th>\n",
              "      <th>Menikah</th>\n",
              "      <th>Kota</th>\n",
              "      <th>Promo</th>\n",
              "      <th>HariFav</th>\n",
              "      <th>FavFlavor</th>\n",
              "    </tr>\n",
              "  </thead>\n",
              "  <tbody>\n",
              "    <tr>\n",
              "      <th>0</th>\n",
              "      <td>101</td>\n",
              "      <td>Wanita</td>\n",
              "      <td>49</td>\n",
              "      <td>13114754</td>\n",
              "      <td>52</td>\n",
              "      <td>1</td>\n",
              "      <td>Jakarta</td>\n",
              "      <td>1.0</td>\n",
              "      <td>Sabtu</td>\n",
              "      <td>2</td>\n",
              "    </tr>\n",
              "    <tr>\n",
              "      <th>1</th>\n",
              "      <td>102</td>\n",
              "      <td>Wanita</td>\n",
              "      <td>32</td>\n",
              "      <td>33606557</td>\n",
              "      <td>86</td>\n",
              "      <td>1</td>\n",
              "      <td>Depok</td>\n",
              "      <td>1.0</td>\n",
              "      <td>Minggu</td>\n",
              "      <td>6</td>\n",
              "    </tr>\n",
              "    <tr>\n",
              "      <th>2</th>\n",
              "      <td>103</td>\n",
              "      <td>Pria</td>\n",
              "      <td>51</td>\n",
              "      <td>15983606</td>\n",
              "      <td>41</td>\n",
              "      <td>1</td>\n",
              "      <td>Jakarta</td>\n",
              "      <td>2.0</td>\n",
              "      <td>Minggu</td>\n",
              "      <td>3</td>\n",
              "    </tr>\n",
              "    <tr>\n",
              "      <th>3</th>\n",
              "      <td>104</td>\n",
              "      <td>Pria</td>\n",
              "      <td>19</td>\n",
              "      <td>12704918</td>\n",
              "      <td>55</td>\n",
              "      <td>0</td>\n",
              "      <td>Jakarta</td>\n",
              "      <td>1.0</td>\n",
              "      <td>Rabu</td>\n",
              "      <td>7</td>\n",
              "    </tr>\n",
              "    <tr>\n",
              "      <th>4</th>\n",
              "      <td>105</td>\n",
              "      <td>Wanita</td>\n",
              "      <td>38</td>\n",
              "      <td>20081967</td>\n",
              "      <td>42</td>\n",
              "      <td>1</td>\n",
              "      <td>Jakarta</td>\n",
              "      <td>2.0</td>\n",
              "      <td>Senin</td>\n",
              "      <td>8</td>\n",
              "    </tr>\n",
              "  </tbody>\n",
              "</table>\n",
              "</div>\n",
              "      <button class=\"colab-df-convert\" onclick=\"convertToInteractive('df-33c6681e-b437-4bfd-956b-0fa3a71c271c')\"\n",
              "              title=\"Convert this dataframe to an interactive table.\"\n",
              "              style=\"display:none;\">\n",
              "        \n",
              "  <svg xmlns=\"http://www.w3.org/2000/svg\" height=\"24px\"viewBox=\"0 0 24 24\"\n",
              "       width=\"24px\">\n",
              "    <path d=\"M0 0h24v24H0V0z\" fill=\"none\"/>\n",
              "    <path d=\"M18.56 5.44l.94 2.06.94-2.06 2.06-.94-2.06-.94-.94-2.06-.94 2.06-2.06.94zm-11 1L8.5 8.5l.94-2.06 2.06-.94-2.06-.94L8.5 2.5l-.94 2.06-2.06.94zm10 10l.94 2.06.94-2.06 2.06-.94-2.06-.94-.94-2.06-.94 2.06-2.06.94z\"/><path d=\"M17.41 7.96l-1.37-1.37c-.4-.4-.92-.59-1.43-.59-.52 0-1.04.2-1.43.59L10.3 9.45l-7.72 7.72c-.78.78-.78 2.05 0 2.83L4 21.41c.39.39.9.59 1.41.59.51 0 1.02-.2 1.41-.59l7.78-7.78 2.81-2.81c.8-.78.8-2.07 0-2.86zM5.41 20L4 18.59l7.72-7.72 1.47 1.35L5.41 20z\"/>\n",
              "  </svg>\n",
              "      </button>\n",
              "      \n",
              "  <style>\n",
              "    .colab-df-container {\n",
              "      display:flex;\n",
              "      flex-wrap:wrap;\n",
              "      gap: 12px;\n",
              "    }\n",
              "\n",
              "    .colab-df-convert {\n",
              "      background-color: #E8F0FE;\n",
              "      border: none;\n",
              "      border-radius: 50%;\n",
              "      cursor: pointer;\n",
              "      display: none;\n",
              "      fill: #1967D2;\n",
              "      height: 32px;\n",
              "      padding: 0 0 0 0;\n",
              "      width: 32px;\n",
              "    }\n",
              "\n",
              "    .colab-df-convert:hover {\n",
              "      background-color: #E2EBFA;\n",
              "      box-shadow: 0px 1px 2px rgba(60, 64, 67, 0.3), 0px 1px 3px 1px rgba(60, 64, 67, 0.15);\n",
              "      fill: #174EA6;\n",
              "    }\n",
              "\n",
              "    [theme=dark] .colab-df-convert {\n",
              "      background-color: #3B4455;\n",
              "      fill: #D2E3FC;\n",
              "    }\n",
              "\n",
              "    [theme=dark] .colab-df-convert:hover {\n",
              "      background-color: #434B5C;\n",
              "      box-shadow: 0px 1px 3px 1px rgba(0, 0, 0, 0.15);\n",
              "      filter: drop-shadow(0px 1px 2px rgba(0, 0, 0, 0.3));\n",
              "      fill: #FFFFFF;\n",
              "    }\n",
              "  </style>\n",
              "\n",
              "      <script>\n",
              "        const buttonEl =\n",
              "          document.querySelector('#df-33c6681e-b437-4bfd-956b-0fa3a71c271c button.colab-df-convert');\n",
              "        buttonEl.style.display =\n",
              "          google.colab.kernel.accessAllowed ? 'block' : 'none';\n",
              "\n",
              "        async function convertToInteractive(key) {\n",
              "          const element = document.querySelector('#df-33c6681e-b437-4bfd-956b-0fa3a71c271c');\n",
              "          const dataTable =\n",
              "            await google.colab.kernel.invokeFunction('convertToInteractive',\n",
              "                                                     [key], {});\n",
              "          if (!dataTable) return;\n",
              "\n",
              "          const docLinkHtml = 'Like what you see? Visit the ' +\n",
              "            '<a target=\"_blank\" href=https://colab.research.google.com/notebooks/data_table.ipynb>data table notebook</a>'\n",
              "            + ' to learn more about interactive tables.';\n",
              "          element.innerHTML = '';\n",
              "          dataTable['output_type'] = 'display_data';\n",
              "          await google.colab.output.renderOutput(dataTable, element);\n",
              "          const docLink = document.createElement('div');\n",
              "          docLink.innerHTML = docLinkHtml;\n",
              "          element.appendChild(docLink);\n",
              "        }\n",
              "      </script>\n",
              "    </div>\n",
              "  </div>\n",
              "  "
            ]
          },
          "metadata": {},
          "execution_count": 235
        }
      ]
    },
    {
      "cell_type": "markdown",
      "source": [
        "#**Melihat Type Data**"
      ],
      "metadata": {
        "id": "CbeDXoFBw3RB"
      }
    },
    {
      "cell_type": "code",
      "source": [
        "print(type(data))\n",
        "N,P = data.shape\n",
        "print(\"Baris =\",N, \"Kolom =\",P)"
      ],
      "metadata": {
        "colab": {
          "base_uri": "https://localhost:8080/"
        },
        "id": "bjh1bJ1LYHvH",
        "outputId": "2b5fe6c8-ab4d-488e-984e-d500ae7c16db"
      },
      "execution_count": 236,
      "outputs": [
        {
          "output_type": "stream",
          "name": "stdout",
          "text": [
            "<class 'pandas.core.frame.DataFrame'>\n",
            "Baris = 200 Kolom = 10\n"
          ]
        }
      ]
    },
    {
      "cell_type": "code",
      "source": [
        "data.columns"
      ],
      "metadata": {
        "colab": {
          "base_uri": "https://localhost:8080/"
        },
        "id": "i2XaHr8ddn6y",
        "outputId": "75ba4d74-5b65-4b40-9359-f68eef817857"
      },
      "execution_count": 237,
      "outputs": [
        {
          "output_type": "execute_result",
          "data": {
            "text/plain": [
              "Index(['ID', 'Jenis Kelamin', 'Umur', 'Pendapatan-per-bulan',\n",
              "       'skor-pengeluaran', 'Menikah', 'Kota', 'Promo', 'HariFav', 'FavFlavor'],\n",
              "      dtype='object')"
            ]
          },
          "metadata": {},
          "execution_count": 237
        }
      ]
    },
    {
      "cell_type": "markdown",
      "source": [
        "#**Mengoreksi Type Data**"
      ],
      "metadata": {
        "id": "TgeFR2lU0VTR"
      }
    },
    {
      "cell_type": "code",
      "source": [
        "data.dtypes"
      ],
      "metadata": {
        "colab": {
          "base_uri": "https://localhost:8080/"
        },
        "id": "ylL0v7Xpd4-I",
        "outputId": "718942a6-e43a-4ce5-ebd6-010b16a25add"
      },
      "execution_count": 238,
      "outputs": [
        {
          "output_type": "execute_result",
          "data": {
            "text/plain": [
              "ID                        int64\n",
              "Jenis Kelamin            object\n",
              "Umur                      int64\n",
              "Pendapatan-per-bulan      int64\n",
              "skor-pengeluaran          int64\n",
              "Menikah                  object\n",
              "Kota                     object\n",
              "Promo                   float64\n",
              "HariFav                  object\n",
              "FavFlavor                 int64\n",
              "dtype: object"
            ]
          },
          "metadata": {},
          "execution_count": 238
        }
      ]
    },
    {
      "cell_type": "code",
      "source": [
        "data[\"Jenis Kelamin\"] = data[\"Jenis Kelamin\"].astype(\"category\")\n",
        "data[\"Umur\"] = data[\"Umur\"].astype(\"category\")\n",
        "data[\"Kota\"] = data[\"Kota\"].astype(\"category\")\n",
        "data[\"HariFav\"] = data[\"HariFav\"].astype(\"category\")\n",
        "data[\"FavFlavor\"] = data[\"FavFlavor\"].astype(\"category\")\n",
        "data[\"ID\"] = data[\"ID\"].astype(\"category\")"
      ],
      "metadata": {
        "id": "av_5LZj7g9r3"
      },
      "execution_count": 239,
      "outputs": []
    },
    {
      "cell_type": "code",
      "source": [
        "data.dtypes"
      ],
      "metadata": {
        "colab": {
          "base_uri": "https://localhost:8080/"
        },
        "id": "hLS6JYIDkuFJ",
        "outputId": "fb7e3a47-a393-48f2-ea97-88902e77a8fd"
      },
      "execution_count": 240,
      "outputs": [
        {
          "output_type": "execute_result",
          "data": {
            "text/plain": [
              "ID                      category\n",
              "Jenis Kelamin           category\n",
              "Umur                    category\n",
              "Pendapatan-per-bulan       int64\n",
              "skor-pengeluaran           int64\n",
              "Menikah                   object\n",
              "Kota                    category\n",
              "Promo                    float64\n",
              "HariFav                 category\n",
              "FavFlavor               category\n",
              "dtype: object"
            ]
          },
          "metadata": {},
          "execution_count": 240
        }
      ]
    },
    {
      "cell_type": "markdown",
      "source": [
        "#**Mengatasi Missing Value**"
      ],
      "metadata": {
        "id": "EiqSNZFiw_WH"
      }
    },
    {
      "cell_type": "code",
      "source": [
        "data.duplicated().sum()"
      ],
      "metadata": {
        "id": "npi_cqJhnW0b",
        "outputId": "e0ae4804-fe08-4268-bebc-cbf28a80f93c",
        "colab": {
          "base_uri": "https://localhost:8080/"
        }
      },
      "execution_count": 241,
      "outputs": [
        {
          "output_type": "execute_result",
          "data": {
            "text/plain": [
              "0"
            ]
          },
          "metadata": {},
          "execution_count": 241
        }
      ]
    },
    {
      "cell_type": "code",
      "source": [
        "data.isna().sum()"
      ],
      "metadata": {
        "id": "Op1cWXsSs4uX",
        "outputId": "e52be61d-3949-437f-edfe-3dd8438476d8",
        "colab": {
          "base_uri": "https://localhost:8080/"
        }
      },
      "execution_count": 242,
      "outputs": [
        {
          "output_type": "execute_result",
          "data": {
            "text/plain": [
              "ID                       0\n",
              "Jenis Kelamin            5\n",
              "Umur                     0\n",
              "Pendapatan-per-bulan     0\n",
              "skor-pengeluaran         0\n",
              "Menikah                 13\n",
              "Kota                     0\n",
              "Promo                    6\n",
              "HariFav                  0\n",
              "FavFlavor                0\n",
              "dtype: int64"
            ]
          },
          "metadata": {},
          "execution_count": 242
        }
      ]
    },
    {
      "cell_type": "code",
      "source": [
        "data.drop(\"Menikah\", axis = 1, inplace = True)\n",
        "#Mengisi \n",
        "modus = data['Promo'].mode()[0]\n",
        "data['Promo'] = data['Promo'].fillna(modus)"
      ],
      "metadata": {
        "id": "3zrnfKSUtkos"
      },
      "execution_count": 243,
      "outputs": []
    },
    {
      "cell_type": "code",
      "source": [
        "data = data.drop([19], axis=0)\n",
        "data = data.drop([47], axis=0)\n",
        "data = data.drop([117], axis=0)\n",
        "data = data.drop([135], axis=0)\n",
        "data = data.drop([185], axis=0)"
      ],
      "metadata": {
        "id": "rblP9y4-zn1Y"
      },
      "execution_count": 244,
      "outputs": []
    },
    {
      "cell_type": "code",
      "source": [
        "data.isna().sum()"
      ],
      "metadata": {
        "colab": {
          "base_uri": "https://localhost:8080/"
        },
        "id": "J9bVSp0Jzn6m",
        "outputId": "ea7d2218-017c-440e-d805-688d12c03500"
      },
      "execution_count": 245,
      "outputs": [
        {
          "output_type": "execute_result",
          "data": {
            "text/plain": [
              "ID                      0\n",
              "Jenis Kelamin           0\n",
              "Umur                    0\n",
              "Pendapatan-per-bulan    0\n",
              "skor-pengeluaran        0\n",
              "Kota                    0\n",
              "Promo                   0\n",
              "HariFav                 0\n",
              "FavFlavor               0\n",
              "dtype: int64"
            ]
          },
          "metadata": {},
          "execution_count": 245
        }
      ]
    },
    {
      "cell_type": "code",
      "source": [],
      "metadata": {
        "id": "mXJa_dVzzn9Q"
      },
      "execution_count": 245,
      "outputs": []
    },
    {
      "cell_type": "code",
      "source": [],
      "metadata": {
        "id": "bF6QK3YJzn_X"
      },
      "execution_count": 245,
      "outputs": []
    }
  ]
}