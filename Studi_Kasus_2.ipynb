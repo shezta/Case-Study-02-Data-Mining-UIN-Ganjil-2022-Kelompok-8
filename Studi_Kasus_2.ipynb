{
  "nbformat": 4,
  "nbformat_minor": 0,
  "metadata": {
    "colab": {
      "provenance": [],
      "authorship_tag": "ABX9TyP7OhgaIbMfq+PtyJYXhFq8",
      "include_colab_link": true
    },
    "kernelspec": {
      "name": "python3",
      "display_name": "Python 3"
    },
    "language_info": {
      "name": "python"
    }
  },
  "cells": [
    {
      "cell_type": "markdown",
      "metadata": {
        "id": "view-in-github",
        "colab_type": "text"
      },
      "source": [
        "<a href=\"https://colab.research.google.com/github/shezta/Case-Study-02-Data-Mining-UIN-Ganjil-2022-Kelompok-8/blob/main/Studi_Kasus_2.ipynb\" target=\"_parent\"><img src=\"https://colab.research.google.com/assets/colab-badge.svg\" alt=\"Open In Colab\"/></a>"
      ]
    },
    {
      "cell_type": "code",
      "execution_count": null,
      "metadata": {
        "colab": {
          "base_uri": "https://localhost:8080/"
        },
        "id": "34BZCMJmGyYf",
        "outputId": "ada4699a-9f02-4152-a069-2a5920f9e766"
      },
      "outputs": [
        {
          "output_type": "stream",
          "name": "stdout",
          "text": [
            "tes\n"
          ]
        }
      ],
      "source": [
        "print(\"tes\")"
      ]
    },
    {
      "cell_type": "code",
      "source": [
        "a = \"ahza\"\n",
        "b = \"ganteng\"\n",
        "print(a,b)"
      ],
      "metadata": {
        "id": "l-Gxx6vwCgbB"
      },
      "execution_count": null,
      "outputs": []
    },
    {
      "cell_type": "code",
      "source": [],
      "metadata": {
        "id": "L7MTQeEsCgdX"
      },
      "execution_count": null,
      "outputs": []
    },
    {
      "cell_type": "code",
      "source": [],
      "metadata": {
        "id": "Q-K2dbWFCgfz"
      },
      "execution_count": null,
      "outputs": []
    }
  ]
}